{
 "cells": [
  {
   "cell_type": "code",
   "execution_count": 3,
   "metadata": {},
   "outputs": [],
   "source": [
    "mode = \"calibration\"\n",
    "# mode = 'testing'\n",
    "filepath = \"all_paths_calibrationdata.txt\" #calibration 50 \n",
    "# filepath = \"all_paths_testdata.txt\" #testing\n",
    "# filepath = \"subtestset.txt\" #testing on subset 500 reviews per level"
   ]
  },
  {
   "cell_type": "code",
   "execution_count": 12,
   "metadata": {},
   "outputs": [
    {
     "name": "stdout",
     "output_type": "stream",
     "text": [
      "['human', 'human', 'human', 'human', 'human', 'human', 'human', 'human', 'Level2', 'human', 'Level2', 'Level2', 'Level2', 'Level2', 'Level2', 'Level2', 'Level2', 'Level2', 'Level2', 'Level2', 'Level2', 'Level2', 'Level2', 'Level2', 'Level2', 'human', 'Level2', 'human', 'Level2', 'Level2', 'Level2', 'Level2', 'Level2', 'Level2', 'Level2', 'Level2', 'Level2', 'Level2', 'Level2', 'Level2', 'Level2', 'Level2', 'Level2', 'Level2', 'Level2', 'human', 'Level2', 'Level2', 'Level2', 'Level4']\n",
      "50\n",
      "50\n"
     ]
    },
    {
     "data": {
      "image/png": "[encoded data removed]",
      "text/plain": [
       "<Figure size 400x400 with 1 Axes>"
      ]
     },
     "metadata": {},
     "output_type": "display_data"
    }
   ],
   "source": [
    "from sklearn.metrics import confusion_matrix\n",
    "import json\n",
    "import pandas as pd\n",
    "import matplotlib.pyplot as plt\n",
    "import seaborn as sns\n",
    "#create y_true and y_pred\n",
    "#Read the file all_paths_calibrationdata.txt and get the path to json\n",
    "#Read the json and extract the prediction\n",
    "\n",
    "labels = ['Level1','Level2','Level3','Level4','human']\n",
    "y_pred = []\n",
    "y_true = []\n",
    "\n",
    "def get_true_label(path):\n",
    "    if \"level1\" in path:\n",
    "        return \"Level1\"\n",
    "    elif \"level2\" in path:\n",
    "        return \"Level2\"\n",
    "    elif \"level3\" in path:\n",
    "        return \"Level3\"\n",
    "    elif \"level4\" in path:\n",
    "        return \"Level4\"\n",
    "    elif \"reviews\" in path:\n",
    "        return \"human\"\n",
    "    else:\n",
    "        return None\n",
    "    \n",
    "def get_pred_label(path):\n",
    "    with open(path,\"r\") as responsejson:\n",
    "        response = json.load(responsejson)\n",
    "    prediction = response[\"prediction\"]\n",
    "    return prediction\n",
    "\n",
    "with open(filepath,\"r\") as file:\n",
    "    calib_path = file.readlines()\n",
    "    \n",
    "for path in calib_path:\n",
    "    # if path.strip() in skippedpaths:\n",
    "    #     continue\n",
    "    response_path = path.replace(\"Data_Preprocessing/cleandata\",f\"AI_generation/LLamaDetectorResponses_{mode}\").replace(\".txt\",\".json\").strip()\n",
    "    y_true.append(get_true_label(response_path))\n",
    "    y_pred.append(get_pred_label(response_path))\n",
    "    \n",
    "print(y_pred)\n",
    "print(len(y_pred))\n",
    "print(len(y_true))\n",
    "\n",
    "cm = confusion_matrix(y_true, y_pred, labels=labels)\n",
    "\n",
    "# Create DataFrame for better visualization\n",
    "cm_df = pd.DataFrame(cm, index=[f'{i}' for i in labels], columns=[f'{i}' for i in labels])\n",
    "\n",
    "# Plotting the heatmap\n",
    "plt.figure(figsize=(4, 4))\n",
    "sns.heatmap(cm_df, annot=True, fmt='d', cmap='Blues', cbar=False, linewidths=0.5, linecolor='black', square=True)\n",
    "\n",
    "# Customize labels and title\n",
    "plt.title('Exp4, 4 examples', fontsize=16)\n",
    "plt.xlabel('Predicted class', fontsize=10)\n",
    "plt.ylabel('Actual class', fontsize=10)\n",
    "plt.xticks(rotation=45)\n",
    "plt.yticks(rotation=0)\n",
    "plt.show()"
   ]
  },
  {
   "cell_type": "code",
   "execution_count": null,
   "metadata": {},
   "outputs": [
    {
     "name": "stdout",
     "output_type": "stream",
     "text": [
      "['cleandata/nips_2013-2017/2013/train/gpt_4o_latest/level1/f2201f5191c4e92cc5af043eebfd0946_1.txt', 'cleandata/nips_2013-2017/2013/train/gpt_4o_latest/level1/a9be4c2a4041cadbf9d61ae16dd1389e_1.txt', 'cleandata/nips_2013-2017/2013/train/gpt_4o_latest/level1/67d16d00201083a2b118dd5128dd6f59_1.txt', 'cleandata/iclr_2017/train/gpt_4o_latest/level1/783_1.txt', 'cleandata/conll_2016/train/gpt_4o_latest/level1/124_1.txt', 'cleandata/acl_2017/dev/meta-llama-Llama-3.3-70B-Instruct/level1/173_1.txt', 'cleandata/acl_2017/dev/meta-llama-Llama-3.3-70B-Instruct/level1/37_1.txt', 'cleandata/conll_2016/test/meta-llama-Llama-3.3-70B-Instruct/level1/13_1.txt', 'cleandata/iclr_2017/dev/meta-llama-Llama-3.3-70B-Instruct/level1/340_1.txt', 'cleandata/iclr_2017/dev/meta-llama-Llama-3.3-70B-Instruct/level1/375_1.txt']\n"
     ]
    }
   ],
   "source": [
    "\n",
    "####Experiment 2\n",
    "from sklearn.metrics import confusion_matrix\n",
    "import json\n",
    "import pandas as pd\n",
    "import matplotlib.pyplot as plt\n",
    "import seaborn as sns\n",
    "#create y_true and y_pred\n",
    "#Read the file all_paths_calibrationdata.txt and get the path to json\n",
    "#Read the json and extract the prediction\n",
    "\n",
    "labels = ['AI','human']\n",
    "y_pred = []\n",
    "y_true = []\n",
    "\n",
    "def get_true_label(path):\n",
    "    if (\"level1\",\"level2\",\"level3\",\"level4\") in path:\n",
    "        return \"AI\"\n",
    "    elif \"reviews\" in path:\n",
    "        return \"human\"\n",
    "    else:\n",
    "        return None\n",
    "    \n",
    "def get_pred_label(path):\n",
    "    with open(path,\"r\") as responsejson:\n",
    "        response = json.load(responsejson)\n",
    "    prediction = response[\"prediction\"]\n",
    "    return prediction\n",
    "\n",
    "with open(filepath,\"r\") as file:\n",
    "    calib_path = file.readlines()\n",
    "    \n",
    "for path in calib_path:\n",
    "    # if path.strip() in skippedpaths:\n",
    "    #     continue\n",
    "    response_path = path.replace(\"Data_Preprocessing/cleandata\",f\"AI_generation/LLamaDetectorResponses_{mode}\").replace(\".txt\",\".json\").strip()\n",
    "    y_true.append(get_true_label(response_path))\n",
    "    y_pred.append(get_pred_label(response_path))\n",
    "    \n",
    "print(y_pred)\n",
    "print(len(y_pred))\n",
    "print(len(y_true))\n",
    "\n",
    "cm = confusion_matrix(y_true, y_pred, labels=labels)\n",
    "\n",
    "# Create DataFrame for better visualization\n",
    "cm_df = pd.DataFrame(cm, index=[f'{i}' for i in labels], columns=[f'{i}' for i in labels])\n",
    "\n",
    "# Plotting the heatmap\n",
    "plt.figure(figsize=(4, 4))\n",
    "sns.heatmap(cm_df, annot=True, fmt='d', cmap='Blues', cbar=False, linewidths=0.5, linecolor='black', square=True)\n",
    "\n",
    "# Customize labels and title\n",
    "plt.title('Exp4, 4 examples', fontsize=16)\n",
    "plt.xlabel('Predicted class', fontsize=10)\n",
    "plt.ylabel('Actual class', fontsize=10)\n",
    "plt.xticks(rotation=45)\n",
    "plt.yticks(rotation=0)\n",
    "plt.show()"
   ]
  }
 ],
 "metadata": {
  "kernelspec": {
   "display_name": "PeerReviewProject",
   "language": "python",
   "name": "python3"
  },
  "language_info": {
   "codemirror_mode": {
    "name": "ipython",
    "version": 3
   },
   "file_extension": ".py",
   "mimetype": "text/x-python",
   "name": "python",
   "nbconvert_exporter": "python",
   "pygments_lexer": "ipython3",
   "version": "3.10.12"
  }
 },
 "nbformat": 4,
 "nbformat_minor": 2
}
